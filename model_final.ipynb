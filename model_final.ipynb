{
 "cells": [
  {
   "cell_type": "markdown",
   "metadata": {},
   "source": [
    "## Applying model for car price prediction page"
   ]
  },
  {
   "cell_type": "code",
   "execution_count": 1,
   "metadata": {},
   "outputs": [],
   "source": [
    "import numpy as np\n",
    "import pandas as pd\n",
    "import matplotlib.pyplot as plt\n",
    "import statistics as st\n",
    "import seaborn as sns"
   ]
  },
  {
   "cell_type": "code",
   "execution_count": 2,
   "metadata": {},
   "outputs": [],
   "source": [
    "df = pd.read_csv(r'C:\\Users\\user\\OneDrive\\Desktop\\Engage\\pre_processed_data.csv')"
   ]
  },
  {
   "cell_type": "code",
   "execution_count": 3,
   "metadata": {},
   "outputs": [],
   "source": [
    "pd.set_option('display.max_columns', None)\n",
    "# pd.set_option('display.max_rows', None)\n"
   ]
  },
  {
   "cell_type": "code",
   "execution_count": 4,
   "metadata": {},
   "outputs": [
    {
     "data": {
      "text/html": [
       "<div>\n",
       "<style scoped>\n",
       "    .dataframe tbody tr th:only-of-type {\n",
       "        vertical-align: middle;\n",
       "    }\n",
       "\n",
       "    .dataframe tbody tr th {\n",
       "        vertical-align: top;\n",
       "    }\n",
       "\n",
       "    .dataframe thead th {\n",
       "        text-align: right;\n",
       "    }\n",
       "</style>\n",
       "<table border=\"1\" class=\"dataframe\">\n",
       "  <thead>\n",
       "    <tr style=\"text-align: right;\">\n",
       "      <th></th>\n",
       "      <th>Unnamed: 0</th>\n",
       "      <th>Make</th>\n",
       "      <th>Model</th>\n",
       "      <th>Variant</th>\n",
       "      <th>Ex-Showroom_Price</th>\n",
       "      <th>Displacement</th>\n",
       "      <th>Kerb_Weight</th>\n",
       "      <th>Cylinders</th>\n",
       "      <th>Emission_Norm</th>\n",
       "      <th>Fuel_Tank_Capacity</th>\n",
       "      <th>Fuel_Type</th>\n",
       "      <th>Body_Type</th>\n",
       "      <th>Doors</th>\n",
       "      <th>ARAI_Certified_Mileage</th>\n",
       "      <th>Gears</th>\n",
       "      <th>Ground_Clearance</th>\n",
       "      <th>Power</th>\n",
       "      <th>Torque</th>\n",
       "      <th>Type</th>\n",
       "      <th>Odometer</th>\n",
       "      <th>Speedometer</th>\n",
       "      <th>Tachometer</th>\n",
       "      <th>Seating_Capacity</th>\n",
       "      <th>Start_/_Stop_Button</th>\n",
       "      <th>Audiosystem</th>\n",
       "      <th>Aux-in_Compatibility</th>\n",
       "      <th>Basic_Warranty</th>\n",
       "      <th>Bluetooth</th>\n",
       "      <th>12v_Power_Outlet</th>\n",
       "      <th>Boot-lid_Opener</th>\n",
       "      <th>Boot_Space</th>\n",
       "      <th>Child_Safety_Locks</th>\n",
       "      <th>Extended_Warranty</th>\n",
       "      <th>Fuel-lid_Opener</th>\n",
       "      <th>Fuel_Gauge</th>\n",
       "      <th>Handbrake</th>\n",
       "      <th>Hill_Assist</th>\n",
       "      <th>Airbags</th>\n",
       "      <th>Number_of_Airbags</th>\n",
       "      <th>Parking_Assistance</th>\n",
       "      <th>Infotainment_Screen</th>\n",
       "      <th>Navigation_System</th>\n",
       "      <th>Third_Row_AC_Vents</th>\n",
       "      <th>Second_Row_AC_Vents</th>\n",
       "      <th>Engine_Type</th>\n",
       "      <th>Rain_Sensing_Wipers</th>\n",
       "    </tr>\n",
       "  </thead>\n",
       "  <tbody>\n",
       "    <tr>\n",
       "      <th>0</th>\n",
       "      <td>0</td>\n",
       "      <td>Tata</td>\n",
       "      <td>Nano Genx</td>\n",
       "      <td>Xt</td>\n",
       "      <td>292667.0</td>\n",
       "      <td>624.0</td>\n",
       "      <td>660.0</td>\n",
       "      <td>2.0</td>\n",
       "      <td>BS IV</td>\n",
       "      <td>24.0</td>\n",
       "      <td>Petrol</td>\n",
       "      <td>Hatchback</td>\n",
       "      <td>5.0</td>\n",
       "      <td>23.6</td>\n",
       "      <td>4</td>\n",
       "      <td>180.0</td>\n",
       "      <td>38PS@5500rpm</td>\n",
       "      <td>51Nm@4000rpm</td>\n",
       "      <td>Manual</td>\n",
       "      <td>Digital</td>\n",
       "      <td>Analog</td>\n",
       "      <td>Not on offer</td>\n",
       "      <td>4.0</td>\n",
       "      <td>Yes</td>\n",
       "      <td>CD Player with USB &amp; Aux-in</td>\n",
       "      <td>Yes</td>\n",
       "      <td>2 years /75000 Kms</td>\n",
       "      <td>Yes</td>\n",
       "      <td>Yes</td>\n",
       "      <td>Internal</td>\n",
       "      <td>110.0</td>\n",
       "      <td>Yes</td>\n",
       "      <td>2 years /150000 Kms</td>\n",
       "      <td>Internal</td>\n",
       "      <td>Digital</td>\n",
       "      <td>Manual</td>\n",
       "      <td>Not Applicable</td>\n",
       "      <td>Not Applicable</td>\n",
       "      <td>0.0</td>\n",
       "      <td>Not Applicable</td>\n",
       "      <td>Not Applicable</td>\n",
       "      <td>Not Applicable</td>\n",
       "      <td>Not Applicable</td>\n",
       "      <td>Not Applicable</td>\n",
       "      <td>Not known</td>\n",
       "      <td>Not Applicable</td>\n",
       "    </tr>\n",
       "    <tr>\n",
       "      <th>1</th>\n",
       "      <td>1</td>\n",
       "      <td>Tata</td>\n",
       "      <td>Nano Genx</td>\n",
       "      <td>Xe</td>\n",
       "      <td>236447.0</td>\n",
       "      <td>624.0</td>\n",
       "      <td>725.0</td>\n",
       "      <td>2.0</td>\n",
       "      <td>BS IV</td>\n",
       "      <td>24.0</td>\n",
       "      <td>Petrol</td>\n",
       "      <td>Hatchback</td>\n",
       "      <td>5.0</td>\n",
       "      <td>23.6</td>\n",
       "      <td>4</td>\n",
       "      <td>180.0</td>\n",
       "      <td>38PS@5500rpm</td>\n",
       "      <td>51Nm@4000rpm</td>\n",
       "      <td>Manual</td>\n",
       "      <td>Digital</td>\n",
       "      <td>Analog</td>\n",
       "      <td>Not on offer</td>\n",
       "      <td>4.0</td>\n",
       "      <td>Not Applicable</td>\n",
       "      <td>Not on offer</td>\n",
       "      <td>Not Applicable</td>\n",
       "      <td>2 years /75000 Kms</td>\n",
       "      <td>Not Applicable</td>\n",
       "      <td>Yes</td>\n",
       "      <td>Internal</td>\n",
       "      <td>110.0</td>\n",
       "      <td>Yes</td>\n",
       "      <td>2 years /150000 Kms</td>\n",
       "      <td>Internal</td>\n",
       "      <td>Digital</td>\n",
       "      <td>Manual</td>\n",
       "      <td>Not Applicable</td>\n",
       "      <td>Not Applicable</td>\n",
       "      <td>0.0</td>\n",
       "      <td>Not Applicable</td>\n",
       "      <td>Not Applicable</td>\n",
       "      <td>Not Applicable</td>\n",
       "      <td>Not Applicable</td>\n",
       "      <td>Not Applicable</td>\n",
       "      <td>Not known</td>\n",
       "      <td>Not Applicable</td>\n",
       "    </tr>\n",
       "    <tr>\n",
       "      <th>2</th>\n",
       "      <td>2</td>\n",
       "      <td>Tata</td>\n",
       "      <td>Nano Genx</td>\n",
       "      <td>Emax Xm</td>\n",
       "      <td>296661.0</td>\n",
       "      <td>624.0</td>\n",
       "      <td>710.0</td>\n",
       "      <td>2.0</td>\n",
       "      <td>BS IV</td>\n",
       "      <td>15.0</td>\n",
       "      <td>CNG</td>\n",
       "      <td>Hatchback</td>\n",
       "      <td>4.0</td>\n",
       "      <td>23.6</td>\n",
       "      <td>4</td>\n",
       "      <td>180.0</td>\n",
       "      <td>38PS@5500rpm</td>\n",
       "      <td>51Nm@4000rpm</td>\n",
       "      <td>Manual</td>\n",
       "      <td>Digital</td>\n",
       "      <td>Analog</td>\n",
       "      <td>Not on offer</td>\n",
       "      <td>4.0</td>\n",
       "      <td>Not Applicable</td>\n",
       "      <td>Not on offer</td>\n",
       "      <td>Not Applicable</td>\n",
       "      <td>2 years /75000 Kms</td>\n",
       "      <td>Not Applicable</td>\n",
       "      <td>Yes</td>\n",
       "      <td>Internal</td>\n",
       "      <td>110.0</td>\n",
       "      <td>Yes</td>\n",
       "      <td>2 years /150000 Kms</td>\n",
       "      <td>Internal</td>\n",
       "      <td>Digital</td>\n",
       "      <td>Manual</td>\n",
       "      <td>Yes</td>\n",
       "      <td>Not Applicable</td>\n",
       "      <td>0.0</td>\n",
       "      <td>Not Applicable</td>\n",
       "      <td>Not Applicable</td>\n",
       "      <td>Not Applicable</td>\n",
       "      <td>Not Applicable</td>\n",
       "      <td>Not Applicable</td>\n",
       "      <td>Not known</td>\n",
       "      <td>Not Applicable</td>\n",
       "    </tr>\n",
       "    <tr>\n",
       "      <th>3</th>\n",
       "      <td>3</td>\n",
       "      <td>Tata</td>\n",
       "      <td>Nano Genx</td>\n",
       "      <td>Xta</td>\n",
       "      <td>334768.0</td>\n",
       "      <td>624.0</td>\n",
       "      <td>725.0</td>\n",
       "      <td>2.0</td>\n",
       "      <td>BS IV</td>\n",
       "      <td>24.0</td>\n",
       "      <td>Petrol</td>\n",
       "      <td>Hatchback</td>\n",
       "      <td>5.0</td>\n",
       "      <td>21.9</td>\n",
       "      <td>5</td>\n",
       "      <td>180.0</td>\n",
       "      <td>38PS@5500rpm</td>\n",
       "      <td>51Nm@4000rpm</td>\n",
       "      <td>Automatic</td>\n",
       "      <td>Digital</td>\n",
       "      <td>Analog</td>\n",
       "      <td>Not on offer</td>\n",
       "      <td>4.0</td>\n",
       "      <td>Yes</td>\n",
       "      <td>CD Player with USB &amp; Aux-in</td>\n",
       "      <td>Yes</td>\n",
       "      <td>2 years /75000 Kms</td>\n",
       "      <td>Yes</td>\n",
       "      <td>Yes</td>\n",
       "      <td>Internal</td>\n",
       "      <td>94.0</td>\n",
       "      <td>Yes</td>\n",
       "      <td>2 years /150000 Kms</td>\n",
       "      <td>Internal</td>\n",
       "      <td>Digital</td>\n",
       "      <td>Manual</td>\n",
       "      <td>Not Applicable</td>\n",
       "      <td>Not Applicable</td>\n",
       "      <td>0.0</td>\n",
       "      <td>Not Applicable</td>\n",
       "      <td>Not Applicable</td>\n",
       "      <td>Not Applicable</td>\n",
       "      <td>Not Applicable</td>\n",
       "      <td>Not Applicable</td>\n",
       "      <td>Not known</td>\n",
       "      <td>Not Applicable</td>\n",
       "    </tr>\n",
       "    <tr>\n",
       "      <th>4</th>\n",
       "      <td>4</td>\n",
       "      <td>Tata</td>\n",
       "      <td>Nano Genx</td>\n",
       "      <td>Xm</td>\n",
       "      <td>272223.0</td>\n",
       "      <td>624.0</td>\n",
       "      <td>725.0</td>\n",
       "      <td>2.0</td>\n",
       "      <td>BS IV</td>\n",
       "      <td>24.0</td>\n",
       "      <td>Petrol</td>\n",
       "      <td>Hatchback</td>\n",
       "      <td>5.0</td>\n",
       "      <td>23.6</td>\n",
       "      <td>4</td>\n",
       "      <td>180.0</td>\n",
       "      <td>38PS@5500rpm</td>\n",
       "      <td>51Nm@4000rpm</td>\n",
       "      <td>Manual</td>\n",
       "      <td>Digital</td>\n",
       "      <td>Analog</td>\n",
       "      <td>Not on offer</td>\n",
       "      <td>4.0</td>\n",
       "      <td>Not Applicable</td>\n",
       "      <td>Not on offer</td>\n",
       "      <td>Not Applicable</td>\n",
       "      <td>2 years /75000 Kms</td>\n",
       "      <td>Not Applicable</td>\n",
       "      <td>Yes</td>\n",
       "      <td>Internal</td>\n",
       "      <td>110.0</td>\n",
       "      <td>Yes</td>\n",
       "      <td>2 years /150000 Kms</td>\n",
       "      <td>Internal</td>\n",
       "      <td>Digital</td>\n",
       "      <td>Manual</td>\n",
       "      <td>Not Applicable</td>\n",
       "      <td>Not Applicable</td>\n",
       "      <td>0.0</td>\n",
       "      <td>Not Applicable</td>\n",
       "      <td>Not Applicable</td>\n",
       "      <td>Not Applicable</td>\n",
       "      <td>Not Applicable</td>\n",
       "      <td>Not Applicable</td>\n",
       "      <td>Not known</td>\n",
       "      <td>Not Applicable</td>\n",
       "    </tr>\n",
       "  </tbody>\n",
       "</table>\n",
       "</div>"
      ],
      "text/plain": [
       "   Unnamed: 0  Make      Model  Variant  Ex-Showroom_Price  Displacement  \\\n",
       "0           0  Tata  Nano Genx       Xt           292667.0         624.0   \n",
       "1           1  Tata  Nano Genx       Xe           236447.0         624.0   \n",
       "2           2  Tata  Nano Genx  Emax Xm           296661.0         624.0   \n",
       "3           3  Tata  Nano Genx      Xta           334768.0         624.0   \n",
       "4           4  Tata  Nano Genx       Xm           272223.0         624.0   \n",
       "\n",
       "   Kerb_Weight  Cylinders Emission_Norm  Fuel_Tank_Capacity Fuel_Type  \\\n",
       "0        660.0        2.0         BS IV                24.0    Petrol   \n",
       "1        725.0        2.0         BS IV                24.0    Petrol   \n",
       "2        710.0        2.0         BS IV                15.0       CNG   \n",
       "3        725.0        2.0         BS IV                24.0    Petrol   \n",
       "4        725.0        2.0         BS IV                24.0    Petrol   \n",
       "\n",
       "   Body_Type  Doors  ARAI_Certified_Mileage Gears  Ground_Clearance  \\\n",
       "0  Hatchback    5.0                    23.6     4             180.0   \n",
       "1  Hatchback    5.0                    23.6     4             180.0   \n",
       "2  Hatchback    4.0                    23.6     4             180.0   \n",
       "3  Hatchback    5.0                    21.9     5             180.0   \n",
       "4  Hatchback    5.0                    23.6     4             180.0   \n",
       "\n",
       "          Power        Torque       Type Odometer Speedometer    Tachometer  \\\n",
       "0  38PS@5500rpm  51Nm@4000rpm     Manual  Digital      Analog  Not on offer   \n",
       "1  38PS@5500rpm  51Nm@4000rpm     Manual  Digital      Analog  Not on offer   \n",
       "2  38PS@5500rpm  51Nm@4000rpm     Manual  Digital      Analog  Not on offer   \n",
       "3  38PS@5500rpm  51Nm@4000rpm  Automatic  Digital      Analog  Not on offer   \n",
       "4  38PS@5500rpm  51Nm@4000rpm     Manual  Digital      Analog  Not on offer   \n",
       "\n",
       "   Seating_Capacity Start_/_Stop_Button                  Audiosystem  \\\n",
       "0               4.0                 Yes  CD Player with USB & Aux-in   \n",
       "1               4.0      Not Applicable                 Not on offer   \n",
       "2               4.0      Not Applicable                 Not on offer   \n",
       "3               4.0                 Yes  CD Player with USB & Aux-in   \n",
       "4               4.0      Not Applicable                 Not on offer   \n",
       "\n",
       "  Aux-in_Compatibility       Basic_Warranty       Bluetooth 12v_Power_Outlet  \\\n",
       "0                  Yes  2 years /75000 Kms              Yes              Yes   \n",
       "1       Not Applicable  2 years /75000 Kms   Not Applicable              Yes   \n",
       "2       Not Applicable  2 years /75000 Kms   Not Applicable              Yes   \n",
       "3                  Yes  2 years /75000 Kms              Yes              Yes   \n",
       "4       Not Applicable  2 years /75000 Kms   Not Applicable              Yes   \n",
       "\n",
       "  Boot-lid_Opener  Boot_Space Child_Safety_Locks     Extended_Warranty  \\\n",
       "0        Internal       110.0                Yes  2 years /150000 Kms    \n",
       "1        Internal       110.0                Yes  2 years /150000 Kms    \n",
       "2        Internal       110.0                Yes  2 years /150000 Kms    \n",
       "3        Internal        94.0                Yes  2 years /150000 Kms    \n",
       "4        Internal       110.0                Yes  2 years /150000 Kms    \n",
       "\n",
       "  Fuel-lid_Opener Fuel_Gauge Handbrake     Hill_Assist         Airbags  \\\n",
       "0        Internal    Digital    Manual  Not Applicable  Not Applicable   \n",
       "1        Internal    Digital    Manual  Not Applicable  Not Applicable   \n",
       "2        Internal    Digital    Manual             Yes  Not Applicable   \n",
       "3        Internal    Digital    Manual  Not Applicable  Not Applicable   \n",
       "4        Internal    Digital    Manual  Not Applicable  Not Applicable   \n",
       "\n",
       "   Number_of_Airbags Parking_Assistance Infotainment_Screen Navigation_System  \\\n",
       "0                0.0     Not Applicable      Not Applicable    Not Applicable   \n",
       "1                0.0     Not Applicable      Not Applicable    Not Applicable   \n",
       "2                0.0     Not Applicable      Not Applicable    Not Applicable   \n",
       "3                0.0     Not Applicable      Not Applicable    Not Applicable   \n",
       "4                0.0     Not Applicable      Not Applicable    Not Applicable   \n",
       "\n",
       "  Third_Row_AC_Vents Second_Row_AC_Vents Engine_Type Rain_Sensing_Wipers  \n",
       "0     Not Applicable      Not Applicable   Not known      Not Applicable  \n",
       "1     Not Applicable      Not Applicable   Not known      Not Applicable  \n",
       "2     Not Applicable      Not Applicable   Not known      Not Applicable  \n",
       "3     Not Applicable      Not Applicable   Not known      Not Applicable  \n",
       "4     Not Applicable      Not Applicable   Not known      Not Applicable  "
      ]
     },
     "execution_count": 4,
     "metadata": {},
     "output_type": "execute_result"
    }
   ],
   "source": [
    "df.head()"
   ]
  },
  {
   "cell_type": "code",
   "execution_count": 5,
   "metadata": {},
   "outputs": [],
   "source": [
    "df=df.drop(columns=['Unnamed: 0'])"
   ]
  },
  {
   "cell_type": "code",
   "execution_count": 6,
   "metadata": {},
   "outputs": [
    {
     "name": "stdout",
     "output_type": "stream",
     "text": [
      "<class 'pandas.core.frame.DataFrame'>\n",
      "RangeIndex: 1276 entries, 0 to 1275\n",
      "Data columns (total 45 columns):\n",
      " #   Column                  Non-Null Count  Dtype  \n",
      "---  ------                  --------------  -----  \n",
      " 0   Make                    1276 non-null   object \n",
      " 1   Model                   1276 non-null   object \n",
      " 2   Variant                 1276 non-null   object \n",
      " 3   Ex-Showroom_Price       1276 non-null   float64\n",
      " 4   Displacement            1276 non-null   float64\n",
      " 5   Kerb_Weight             1276 non-null   float64\n",
      " 6   Cylinders               1276 non-null   float64\n",
      " 7   Emission_Norm           1276 non-null   object \n",
      " 8   Fuel_Tank_Capacity      1276 non-null   float64\n",
      " 9   Fuel_Type               1276 non-null   object \n",
      " 10  Body_Type               1276 non-null   object \n",
      " 11  Doors                   1276 non-null   float64\n",
      " 12  ARAI_Certified_Mileage  1276 non-null   float64\n",
      " 13  Gears                   1276 non-null   object \n",
      " 14  Ground_Clearance        1276 non-null   float64\n",
      " 15  Power                   1276 non-null   object \n",
      " 16  Torque                  1276 non-null   object \n",
      " 17  Type                    1276 non-null   object \n",
      " 18  Odometer                1276 non-null   object \n",
      " 19  Speedometer             1276 non-null   object \n",
      " 20  Tachometer              1276 non-null   object \n",
      " 21  Seating_Capacity        1276 non-null   float64\n",
      " 22  Start_/_Stop_Button     1276 non-null   object \n",
      " 23  Audiosystem             1276 non-null   object \n",
      " 24  Aux-in_Compatibility    1276 non-null   object \n",
      " 25  Basic_Warranty          1276 non-null   object \n",
      " 26  Bluetooth               1276 non-null   object \n",
      " 27  12v_Power_Outlet        1276 non-null   object \n",
      " 28  Boot-lid_Opener         1276 non-null   object \n",
      " 29  Boot_Space              1276 non-null   float64\n",
      " 30  Child_Safety_Locks      1276 non-null   object \n",
      " 31  Extended_Warranty       1276 non-null   object \n",
      " 32  Fuel-lid_Opener         1276 non-null   object \n",
      " 33  Fuel_Gauge              1276 non-null   object \n",
      " 34  Handbrake               1276 non-null   object \n",
      " 35  Hill_Assist             1276 non-null   object \n",
      " 36  Airbags                 1276 non-null   object \n",
      " 37  Number_of_Airbags       1276 non-null   float64\n",
      " 38  Parking_Assistance      1276 non-null   object \n",
      " 39  Infotainment_Screen     1276 non-null   object \n",
      " 40  Navigation_System       1276 non-null   object \n",
      " 41  Third_Row_AC_Vents      1276 non-null   object \n",
      " 42  Second_Row_AC_Vents     1276 non-null   object \n",
      " 43  Engine_Type             1276 non-null   object \n",
      " 44  Rain_Sensing_Wipers     1276 non-null   object \n",
      "dtypes: float64(11), object(34)\n",
      "memory usage: 448.7+ KB\n"
     ]
    }
   ],
   "source": [
    "df.info()"
   ]
  },
  {
   "cell_type": "code",
   "execution_count": 7,
   "metadata": {},
   "outputs": [],
   "source": [
    "df2= df"
   ]
  },
  {
   "cell_type": "code",
   "execution_count": 8,
   "metadata": {},
   "outputs": [
    {
     "data": {
      "text/plain": [
       "Index(['Make', 'Model', 'Variant', 'Ex-Showroom_Price', 'Displacement',\n",
       "       'Kerb_Weight', 'Cylinders', 'Emission_Norm', 'Fuel_Tank_Capacity',\n",
       "       'Fuel_Type', 'Body_Type', 'Doors', 'ARAI_Certified_Mileage', 'Gears',\n",
       "       'Ground_Clearance', 'Power', 'Torque', 'Type', 'Odometer',\n",
       "       'Speedometer', 'Tachometer', 'Seating_Capacity', 'Start_/_Stop_Button',\n",
       "       'Audiosystem', 'Aux-in_Compatibility', 'Basic_Warranty', 'Bluetooth',\n",
       "       '12v_Power_Outlet', 'Boot-lid_Opener', 'Boot_Space',\n",
       "       'Child_Safety_Locks', 'Extended_Warranty', 'Fuel-lid_Opener',\n",
       "       'Fuel_Gauge', 'Handbrake', 'Hill_Assist', 'Airbags',\n",
       "       'Number_of_Airbags', 'Parking_Assistance', 'Infotainment_Screen',\n",
       "       'Navigation_System', 'Third_Row_AC_Vents', 'Second_Row_AC_Vents',\n",
       "       'Engine_Type', 'Rain_Sensing_Wipers'],\n",
       "      dtype='object')"
      ]
     },
     "execution_count": 8,
     "metadata": {},
     "output_type": "execute_result"
    }
   ],
   "source": [
    "df2.columns\n",
    "# dimensionality reduction based on what is necessary and what not"
   ]
  },
  {
   "cell_type": "code",
   "execution_count": 9,
   "metadata": {},
   "outputs": [],
   "source": [
    "df2.drop(columns= ['Variant','Displacement','Kerb_Weight','Cylinders','Emission_Norm','Fuel_Tank_Capacity','Doors'], inplace=True)\n",
    "df2.drop(columns=['Power', 'Torque', 'Type', 'Odometer','Speedometer', 'Tachometer','Speedometer', 'Tachometer'], inplace=True)\n",
    "df2.drop(columns=['Bluetooth','12v_Power_Outlet', 'Boot-lid_Opener', 'Boot_Space','Fuel-lid_Opener','Fuel_Gauge'], inplace=True)\n",
    "df2.drop(columns=['Hill_Assist', 'Airbags','Infotainment_Screen','Third_Row_AC_Vents', 'Second_Row_AC_Vents','Engine_Type', 'Rain_Sensing_Wipers','Ground_Clearance'], inplace=True)"
   ]
  },
  {
   "cell_type": "code",
   "execution_count": 10,
   "metadata": {},
   "outputs": [],
   "source": [
    "df2.drop(columns=['Gears','Audiosystem', 'Aux-in_Compatibility','Handbrake'], inplace=True)"
   ]
  },
  {
   "cell_type": "code",
   "execution_count": 11,
   "metadata": {},
   "outputs": [
    {
     "data": {
      "text/html": [
       "<div>\n",
       "<style scoped>\n",
       "    .dataframe tbody tr th:only-of-type {\n",
       "        vertical-align: middle;\n",
       "    }\n",
       "\n",
       "    .dataframe tbody tr th {\n",
       "        vertical-align: top;\n",
       "    }\n",
       "\n",
       "    .dataframe thead th {\n",
       "        text-align: right;\n",
       "    }\n",
       "</style>\n",
       "<table border=\"1\" class=\"dataframe\">\n",
       "  <thead>\n",
       "    <tr style=\"text-align: right;\">\n",
       "      <th></th>\n",
       "      <th>Make</th>\n",
       "      <th>Model</th>\n",
       "      <th>Ex-Showroom_Price</th>\n",
       "      <th>Fuel_Type</th>\n",
       "      <th>Body_Type</th>\n",
       "      <th>ARAI_Certified_Mileage</th>\n",
       "      <th>Seating_Capacity</th>\n",
       "      <th>Start_/_Stop_Button</th>\n",
       "      <th>Basic_Warranty</th>\n",
       "      <th>Child_Safety_Locks</th>\n",
       "      <th>Extended_Warranty</th>\n",
       "      <th>Number_of_Airbags</th>\n",
       "      <th>Parking_Assistance</th>\n",
       "      <th>Navigation_System</th>\n",
       "    </tr>\n",
       "  </thead>\n",
       "  <tbody>\n",
       "    <tr>\n",
       "      <th>0</th>\n",
       "      <td>Tata</td>\n",
       "      <td>Nano Genx</td>\n",
       "      <td>292667.0</td>\n",
       "      <td>Petrol</td>\n",
       "      <td>Hatchback</td>\n",
       "      <td>23.6</td>\n",
       "      <td>4.0</td>\n",
       "      <td>Yes</td>\n",
       "      <td>2 years /75000 Kms</td>\n",
       "      <td>Yes</td>\n",
       "      <td>2 years /150000 Kms</td>\n",
       "      <td>0.0</td>\n",
       "      <td>Not Applicable</td>\n",
       "      <td>Not Applicable</td>\n",
       "    </tr>\n",
       "  </tbody>\n",
       "</table>\n",
       "</div>"
      ],
      "text/plain": [
       "   Make      Model  Ex-Showroom_Price Fuel_Type  Body_Type  \\\n",
       "0  Tata  Nano Genx           292667.0    Petrol  Hatchback   \n",
       "\n",
       "   ARAI_Certified_Mileage  Seating_Capacity Start_/_Stop_Button  \\\n",
       "0                    23.6               4.0                 Yes   \n",
       "\n",
       "        Basic_Warranty Child_Safety_Locks     Extended_Warranty  \\\n",
       "0  2 years /75000 Kms                 Yes  2 years /150000 Kms    \n",
       "\n",
       "   Number_of_Airbags Parking_Assistance Navigation_System  \n",
       "0                0.0     Not Applicable    Not Applicable  "
      ]
     },
     "execution_count": 11,
     "metadata": {},
     "output_type": "execute_result"
    }
   ],
   "source": [
    "df2.head(1)"
   ]
  },
  {
   "cell_type": "code",
   "execution_count": 12,
   "metadata": {},
   "outputs": [
    {
     "data": {
      "text/plain": [
       "<AxesSubplot:>"
      ]
     },
     "execution_count": 12,
     "metadata": {},
     "output_type": "execute_result"
    },
    {
     "data": {
      "image/png": "[encoded data removed]",
      "text/plain": [
       "<Figure size 640x480 with 2 Axes>"
      ]
     },
     "metadata": {},
     "output_type": "display_data"
    }
   ],
   "source": [
    "sns.heatmap(df2.corr())"
   ]
  },
  {
   "cell_type": "code",
   "execution_count": 13,
   "metadata": {
    "scrolled": true
   },
   "outputs": [
    {
     "name": "stderr",
     "output_type": "stream",
     "text": [
      "C:\\Users\\user\\anaconda3\\lib\\site-packages\\seaborn\\distributions.py:2619: FutureWarning: `distplot` is a deprecated function and will be removed in a future version. Please adapt your code to use either `displot` (a figure-level function with similar flexibility) or `histplot` (an axes-level function for histograms).\n",
      "  warnings.warn(msg, FutureWarning)\n"
     ]
    },
    {
     "data": {
      "text/plain": [
       "<AxesSubplot:xlabel='Ex-Showroom_Price', ylabel='Density'>"
      ]
     },
     "execution_count": 13,
     "metadata": {},
     "output_type": "execute_result"
    },
    {
     "data": {
      "image/png": "[encoded data removed]",
      "text/plain": [
       "<Figure size 640x480 with 1 Axes>"
      ]
     },
     "metadata": {},
     "output_type": "display_data"
    }
   ],
   "source": [
    "sns.distplot(df2['Ex-Showroom_Price'])"
   ]
  },
  {
   "cell_type": "code",
   "execution_count": 14,
   "metadata": {
    "scrolled": true
   },
   "outputs": [
    {
     "name": "stderr",
     "output_type": "stream",
     "text": [
      "C:\\Users\\user\\anaconda3\\lib\\site-packages\\seaborn\\distributions.py:2619: FutureWarning: `distplot` is a deprecated function and will be removed in a future version. Please adapt your code to use either `displot` (a figure-level function with similar flexibility) or `histplot` (an axes-level function for histograms).\n",
      "  warnings.warn(msg, FutureWarning)\n"
     ]
    },
    {
     "data": {
      "text/plain": [
       "<AxesSubplot:xlabel='Ex-Showroom_Price', ylabel='Density'>"
      ]
     },
     "execution_count": 14,
     "metadata": {},
     "output_type": "execute_result"
    },
    {
     "data": {
      "image/png": "[encoded data removed]",
      "text/plain": [
       "<Figure size 640x480 with 1 Axes>"
      ]
     },
     "metadata": {},
     "output_type": "display_data"
    }
   ],
   "source": [
    "sns.distplot(np.log(df2['Ex-Showroom_Price'])) #we can see that there is skewness in data and therefore we did log transformation"
   ]
  },
  {
   "cell_type": "markdown",
   "metadata": {},
   "source": [
    "We are taking Ex-Showroom_Price as output variable and all the other features as input. Since input and output have continuous value, this make it a regression problem."
   ]
  },
  {
   "cell_type": "code",
   "execution_count": 15,
   "metadata": {},
   "outputs": [],
   "source": [
    "X = df2.drop(columns=['Ex-Showroom_Price'])\n",
    "y= np.log(df2['Ex-Showroom_Price'])"
   ]
  },
  {
   "cell_type": "code",
   "execution_count": 16,
   "metadata": {},
   "outputs": [
    {
     "data": {
      "text/html": [
       "<div>\n",
       "<style scoped>\n",
       "    .dataframe tbody tr th:only-of-type {\n",
       "        vertical-align: middle;\n",
       "    }\n",
       "\n",
       "    .dataframe tbody tr th {\n",
       "        vertical-align: top;\n",
       "    }\n",
       "\n",
       "    .dataframe thead th {\n",
       "        text-align: right;\n",
       "    }\n",
       "</style>\n",
       "<table border=\"1\" class=\"dataframe\">\n",
       "  <thead>\n",
       "    <tr style=\"text-align: right;\">\n",
       "      <th></th>\n",
       "      <th>Make</th>\n",
       "      <th>Model</th>\n",
       "      <th>Fuel_Type</th>\n",
       "      <th>Body_Type</th>\n",
       "      <th>ARAI_Certified_Mileage</th>\n",
       "      <th>Seating_Capacity</th>\n",
       "      <th>Start_/_Stop_Button</th>\n",
       "      <th>Basic_Warranty</th>\n",
       "      <th>Child_Safety_Locks</th>\n",
       "      <th>Extended_Warranty</th>\n",
       "      <th>Number_of_Airbags</th>\n",
       "      <th>Parking_Assistance</th>\n",
       "      <th>Navigation_System</th>\n",
       "    </tr>\n",
       "  </thead>\n",
       "  <tbody>\n",
       "    <tr>\n",
       "      <th>0</th>\n",
       "      <td>Tata</td>\n",
       "      <td>Nano Genx</td>\n",
       "      <td>Petrol</td>\n",
       "      <td>Hatchback</td>\n",
       "      <td>23.6</td>\n",
       "      <td>4.0</td>\n",
       "      <td>Yes</td>\n",
       "      <td>2 years /75000 Kms</td>\n",
       "      <td>Yes</td>\n",
       "      <td>2 years /150000 Kms</td>\n",
       "      <td>0.0</td>\n",
       "      <td>Not Applicable</td>\n",
       "      <td>Not Applicable</td>\n",
       "    </tr>\n",
       "    <tr>\n",
       "      <th>1</th>\n",
       "      <td>Tata</td>\n",
       "      <td>Nano Genx</td>\n",
       "      <td>Petrol</td>\n",
       "      <td>Hatchback</td>\n",
       "      <td>23.6</td>\n",
       "      <td>4.0</td>\n",
       "      <td>Not Applicable</td>\n",
       "      <td>2 years /75000 Kms</td>\n",
       "      <td>Yes</td>\n",
       "      <td>2 years /150000 Kms</td>\n",
       "      <td>0.0</td>\n",
       "      <td>Not Applicable</td>\n",
       "      <td>Not Applicable</td>\n",
       "    </tr>\n",
       "    <tr>\n",
       "      <th>2</th>\n",
       "      <td>Tata</td>\n",
       "      <td>Nano Genx</td>\n",
       "      <td>CNG</td>\n",
       "      <td>Hatchback</td>\n",
       "      <td>23.6</td>\n",
       "      <td>4.0</td>\n",
       "      <td>Not Applicable</td>\n",
       "      <td>2 years /75000 Kms</td>\n",
       "      <td>Yes</td>\n",
       "      <td>2 years /150000 Kms</td>\n",
       "      <td>0.0</td>\n",
       "      <td>Not Applicable</td>\n",
       "      <td>Not Applicable</td>\n",
       "    </tr>\n",
       "    <tr>\n",
       "      <th>3</th>\n",
       "      <td>Tata</td>\n",
       "      <td>Nano Genx</td>\n",
       "      <td>Petrol</td>\n",
       "      <td>Hatchback</td>\n",
       "      <td>21.9</td>\n",
       "      <td>4.0</td>\n",
       "      <td>Yes</td>\n",
       "      <td>2 years /75000 Kms</td>\n",
       "      <td>Yes</td>\n",
       "      <td>2 years /150000 Kms</td>\n",
       "      <td>0.0</td>\n",
       "      <td>Not Applicable</td>\n",
       "      <td>Not Applicable</td>\n",
       "    </tr>\n",
       "    <tr>\n",
       "      <th>4</th>\n",
       "      <td>Tata</td>\n",
       "      <td>Nano Genx</td>\n",
       "      <td>Petrol</td>\n",
       "      <td>Hatchback</td>\n",
       "      <td>23.6</td>\n",
       "      <td>4.0</td>\n",
       "      <td>Not Applicable</td>\n",
       "      <td>2 years /75000 Kms</td>\n",
       "      <td>Yes</td>\n",
       "      <td>2 years /150000 Kms</td>\n",
       "      <td>0.0</td>\n",
       "      <td>Not Applicable</td>\n",
       "      <td>Not Applicable</td>\n",
       "    </tr>\n",
       "  </tbody>\n",
       "</table>\n",
       "</div>"
      ],
      "text/plain": [
       "   Make      Model Fuel_Type  Body_Type  ARAI_Certified_Mileage  \\\n",
       "0  Tata  Nano Genx    Petrol  Hatchback                    23.6   \n",
       "1  Tata  Nano Genx    Petrol  Hatchback                    23.6   \n",
       "2  Tata  Nano Genx       CNG  Hatchback                    23.6   \n",
       "3  Tata  Nano Genx    Petrol  Hatchback                    21.9   \n",
       "4  Tata  Nano Genx    Petrol  Hatchback                    23.6   \n",
       "\n",
       "   Seating_Capacity Start_/_Stop_Button       Basic_Warranty  \\\n",
       "0               4.0                 Yes  2 years /75000 Kms    \n",
       "1               4.0      Not Applicable  2 years /75000 Kms    \n",
       "2               4.0      Not Applicable  2 years /75000 Kms    \n",
       "3               4.0                 Yes  2 years /75000 Kms    \n",
       "4               4.0      Not Applicable  2 years /75000 Kms    \n",
       "\n",
       "  Child_Safety_Locks     Extended_Warranty  Number_of_Airbags  \\\n",
       "0                Yes  2 years /150000 Kms                 0.0   \n",
       "1                Yes  2 years /150000 Kms                 0.0   \n",
       "2                Yes  2 years /150000 Kms                 0.0   \n",
       "3                Yes  2 years /150000 Kms                 0.0   \n",
       "4                Yes  2 years /150000 Kms                 0.0   \n",
       "\n",
       "  Parking_Assistance Navigation_System  \n",
       "0     Not Applicable    Not Applicable  \n",
       "1     Not Applicable    Not Applicable  \n",
       "2     Not Applicable    Not Applicable  \n",
       "3     Not Applicable    Not Applicable  \n",
       "4     Not Applicable    Not Applicable  "
      ]
     },
     "execution_count": 16,
     "metadata": {},
     "output_type": "execute_result"
    }
   ],
   "source": [
    "X.head()"
   ]
  },
  {
   "cell_type": "code",
   "execution_count": 17,
   "metadata": {},
   "outputs": [
    {
     "data": {
      "text/plain": [
       "0       12.586791\n",
       "1       12.373479\n",
       "2       12.600345\n",
       "3       12.721193\n",
       "4       12.514377\n",
       "          ...    \n",
       "1271    14.079412\n",
       "1272    14.166871\n",
       "1273    14.173884\n",
       "1274    13.998665\n",
       "1275    15.741591\n",
       "Name: Ex-Showroom_Price, Length: 1276, dtype: float64"
      ]
     },
     "execution_count": 17,
     "metadata": {},
     "output_type": "execute_result"
    }
   ],
   "source": [
    "y"
   ]
  },
  {
   "cell_type": "code",
   "execution_count": 18,
   "metadata": {},
   "outputs": [],
   "source": [
    "# splitting data into training and testing\n",
    "from sklearn.model_selection import train_test_split\n",
    "X_train, X_test, y_train, y_test = train_test_split(X,y,test_size=0.15, random_state=2)"
   ]
  },
  {
   "cell_type": "code",
   "execution_count": 19,
   "metadata": {},
   "outputs": [
    {
     "data": {
      "text/html": [
       "<div>\n",
       "<style scoped>\n",
       "    .dataframe tbody tr th:only-of-type {\n",
       "        vertical-align: middle;\n",
       "    }\n",
       "\n",
       "    .dataframe tbody tr th {\n",
       "        vertical-align: top;\n",
       "    }\n",
       "\n",
       "    .dataframe thead th {\n",
       "        text-align: right;\n",
       "    }\n",
       "</style>\n",
       "<table border=\"1\" class=\"dataframe\">\n",
       "  <thead>\n",
       "    <tr style=\"text-align: right;\">\n",
       "      <th></th>\n",
       "      <th>Make</th>\n",
       "      <th>Model</th>\n",
       "      <th>Fuel_Type</th>\n",
       "      <th>Body_Type</th>\n",
       "      <th>ARAI_Certified_Mileage</th>\n",
       "      <th>Seating_Capacity</th>\n",
       "      <th>Start_/_Stop_Button</th>\n",
       "      <th>Basic_Warranty</th>\n",
       "      <th>Child_Safety_Locks</th>\n",
       "      <th>Extended_Warranty</th>\n",
       "      <th>Number_of_Airbags</th>\n",
       "      <th>Parking_Assistance</th>\n",
       "      <th>Navigation_System</th>\n",
       "    </tr>\n",
       "  </thead>\n",
       "  <tbody>\n",
       "    <tr>\n",
       "      <th>944</th>\n",
       "      <td>Honda</td>\n",
       "      <td>Wr-V</td>\n",
       "      <td>Diesel</td>\n",
       "      <td>SUV</td>\n",
       "      <td>25.50</td>\n",
       "      <td>5.0</td>\n",
       "      <td>Yes</td>\n",
       "      <td>3 years without mileage limit</td>\n",
       "      <td>Yes</td>\n",
       "      <td>3 Years Unlimited Kilometres</td>\n",
       "      <td>2.0</td>\n",
       "      <td>Rear sensors</td>\n",
       "      <td>Not Applicable</td>\n",
       "    </tr>\n",
       "    <tr>\n",
       "      <th>21</th>\n",
       "      <td>Renault</td>\n",
       "      <td>Kwid</td>\n",
       "      <td>Petrol</td>\n",
       "      <td>Hatchback</td>\n",
       "      <td>23.01</td>\n",
       "      <td>5.0</td>\n",
       "      <td>Not Applicable</td>\n",
       "      <td>2 years /50000 Kms</td>\n",
       "      <td>Yes</td>\n",
       "      <td>2 Years Unlimited Kilometres</td>\n",
       "      <td>2.0</td>\n",
       "      <td>Rear sensors with camera</td>\n",
       "      <td>Not Applicable</td>\n",
       "    </tr>\n",
       "    <tr>\n",
       "      <th>530</th>\n",
       "      <td>Fiat</td>\n",
       "      <td>Linea</td>\n",
       "      <td>Diesel</td>\n",
       "      <td>Sedan</td>\n",
       "      <td>20.40</td>\n",
       "      <td>5.0</td>\n",
       "      <td>Not Applicable</td>\n",
       "      <td>3 years /100000 Kms</td>\n",
       "      <td>Yes</td>\n",
       "      <td>2 years /150000 Kms</td>\n",
       "      <td>2.0</td>\n",
       "      <td>Not Applicable</td>\n",
       "      <td>Not Applicable</td>\n",
       "    </tr>\n",
       "    <tr>\n",
       "      <th>279</th>\n",
       "      <td>Jaguar</td>\n",
       "      <td>Xe</td>\n",
       "      <td>Petrol</td>\n",
       "      <td>Sedan</td>\n",
       "      <td>11.00</td>\n",
       "      <td>5.0</td>\n",
       "      <td>Yes</td>\n",
       "      <td>2 years without mileage limit</td>\n",
       "      <td>Yes</td>\n",
       "      <td>3rd/4th year</td>\n",
       "      <td>6.0</td>\n",
       "      <td>Front &amp; rear sensors with 360 degree view</td>\n",
       "      <td>Yes</td>\n",
       "    </tr>\n",
       "    <tr>\n",
       "      <th>398</th>\n",
       "      <td>Mahindra</td>\n",
       "      <td>Kuv100 Nxt</td>\n",
       "      <td>Diesel</td>\n",
       "      <td>Hatchback</td>\n",
       "      <td>25.32</td>\n",
       "      <td>6.0</td>\n",
       "      <td>Not Applicable</td>\n",
       "      <td>2 years /100000 Kms</td>\n",
       "      <td>Yes</td>\n",
       "      <td>Up to 5 Year /</td>\n",
       "      <td>2.0</td>\n",
       "      <td>Not Applicable</td>\n",
       "      <td>Not Applicable</td>\n",
       "    </tr>\n",
       "  </tbody>\n",
       "</table>\n",
       "</div>"
      ],
      "text/plain": [
       "         Make       Model Fuel_Type  Body_Type  ARAI_Certified_Mileage  \\\n",
       "944     Honda        Wr-V    Diesel        SUV                   25.50   \n",
       "21    Renault        Kwid    Petrol  Hatchback                   23.01   \n",
       "530      Fiat       Linea    Diesel      Sedan                   20.40   \n",
       "279    Jaguar          Xe    Petrol      Sedan                   11.00   \n",
       "398  Mahindra  Kuv100 Nxt    Diesel  Hatchback                   25.32   \n",
       "\n",
       "     Seating_Capacity Start_/_Stop_Button                 Basic_Warranty  \\\n",
       "944               5.0                 Yes  3 years without mileage limit   \n",
       "21                5.0      Not Applicable            2 years /50000 Kms    \n",
       "530               5.0      Not Applicable           3 years /100000 Kms    \n",
       "279               5.0                 Yes  2 years without mileage limit   \n",
       "398               6.0      Not Applicable           2 years /100000 Kms    \n",
       "\n",
       "    Child_Safety_Locks             Extended_Warranty  Number_of_Airbags  \\\n",
       "944                Yes  3 Years Unlimited Kilometres                2.0   \n",
       "21                 Yes  2 Years Unlimited Kilometres                2.0   \n",
       "530                Yes          2 years /150000 Kms                 2.0   \n",
       "279                Yes                  3rd/4th year                6.0   \n",
       "398                Yes                Up to 5 Year /                2.0   \n",
       "\n",
       "                            Parking_Assistance Navigation_System  \n",
       "944                               Rear sensors    Not Applicable  \n",
       "21                    Rear sensors with camera    Not Applicable  \n",
       "530                             Not Applicable    Not Applicable  \n",
       "279  Front & rear sensors with 360 degree view               Yes  \n",
       "398                             Not Applicable    Not Applicable  "
      ]
     },
     "execution_count": 19,
     "metadata": {},
     "output_type": "execute_result"
    }
   ],
   "source": [
    "X_train.head()"
   ]
  },
  {
   "cell_type": "code",
   "execution_count": 20,
   "metadata": {},
   "outputs": [],
   "source": [
    "from sklearn.compose import ColumnTransformer\n",
    "from sklearn.pipeline import Pipeline\n",
    "from sklearn.preprocessing import OneHotEncoder\n",
    "from sklearn.metrics import r2_score, mean_absolute_error"
   ]
  },
  {
   "cell_type": "code",
   "execution_count": 21,
   "metadata": {},
   "outputs": [],
   "source": [
    "from sklearn.linear_model import LinearRegression,Ridge,Lasso\n",
    "from sklearn.neighbors import KNeighborsRegressor\n",
    "from sklearn.tree import DecisionTreeRegressor\n",
    "from sklearn.ensemble import RandomForestRegressor,GradientBoostingRegressor,AdaBoostRegressor,ExtraTreesRegressor\n",
    "from sklearn.svm import SVR"
   ]
  },
  {
   "cell_type": "markdown",
   "metadata": {},
   "source": [
    "## LinearRegression"
   ]
  },
  {
   "cell_type": "code",
   "execution_count": 22,
   "metadata": {},
   "outputs": [
    {
     "name": "stdout",
     "output_type": "stream",
     "text": [
      "R2 score 0.8767678916838493\n",
      "MAE 0.18158785768888375\n"
     ]
    }
   ],
   "source": [
    "step1 = ColumnTransformer(transformers=[\n",
    "    ('col_tnf',OneHotEncoder(sparse=False,handle_unknown='ignore'),[0,1,2,3,6,7,8,9,11,12])\n",
    "],remainder='passthrough')\n",
    "# [0,1,3,4,7,8,9,10,12,13]\n",
    "step2 = LinearRegression()\n",
    "\n",
    "pipe = Pipeline([\n",
    "    ('step1',step1),\n",
    "    ('step2',step2)\n",
    "])\n",
    "\n",
    "pipe.fit(X_train,y_train)\n",
    "\n",
    "y_pred = pipe.predict(X_test)\n",
    "\n",
    "print('R2 score',r2_score(y_test,y_pred))\n",
    "print('MAE',mean_absolute_error(y_test,y_pred))"
   ]
  },
  {
   "cell_type": "markdown",
   "metadata": {},
   "source": [
    "## Ridge Regression"
   ]
  },
  {
   "cell_type": "code",
   "execution_count": 23,
   "metadata": {},
   "outputs": [
    {
     "name": "stdout",
     "output_type": "stream",
     "text": [
      "R2 score 0.8773468586808513\n",
      "MAE 0.2550525448566288\n"
     ]
    }
   ],
   "source": [
    "step1 = ColumnTransformer(transformers=[('col_tnf',OneHotEncoder(sparse=False,handle_unknown='ignore'),[0,1,2,3,6,7,8,9,11,12])\n",
    "],remainder='passthrough')\n",
    "\n",
    "step2 = Ridge(alpha=10)\n",
    "\n",
    "pipe = Pipeline([('step1',step1),('step2',step2)])\n",
    "\n",
    "pipe.fit(X_train,y_train)\n",
    "\n",
    "y_pred = pipe.predict(X_test)\n",
    "\n",
    "print('R2 score',r2_score(y_test,y_pred))\n",
    "print('MAE',mean_absolute_error(y_test,y_pred))"
   ]
  },
  {
   "cell_type": "markdown",
   "metadata": {},
   "source": [
    "## Lasso regression"
   ]
  },
  {
   "cell_type": "code",
   "execution_count": 24,
   "metadata": {},
   "outputs": [
    {
     "name": "stdout",
     "output_type": "stream",
     "text": [
      "R2 score 0.8453294339974216\n",
      "MAE 0.24088842644348438\n"
     ]
    }
   ],
   "source": [
    "step1 = ColumnTransformer(transformers=[('col_tnf',OneHotEncoder(sparse=False,handle_unknown='ignore'),[0,1,2,3,6,7,8,9,11,12])],remainder='passthrough')\n",
    "\n",
    "step2 = Lasso(alpha=0.001)\n",
    "\n",
    "pipe = Pipeline([('step1',step1),('step2',step2)])\n",
    "\n",
    "pipe.fit(X_train,y_train)\n",
    "\n",
    "y_pred = pipe.predict(X_test)\n",
    "\n",
    "print('R2 score',r2_score(y_test,y_pred))\n",
    "print('MAE',mean_absolute_error(y_test,y_pred))"
   ]
  },
  {
   "cell_type": "markdown",
   "metadata": {},
   "source": [
    "## KNeighborsRegressor"
   ]
  },
  {
   "cell_type": "code",
   "execution_count": 25,
   "metadata": {},
   "outputs": [
    {
     "name": "stdout",
     "output_type": "stream",
     "text": [
      "R2 score 0.9311776222035469\n",
      "MAE 0.1912951382382296\n"
     ]
    }
   ],
   "source": [
    "step1 = ColumnTransformer(transformers=[('col_tnf',OneHotEncoder(sparse=False,handle_unknown='ignore'),[0,1,2,3,6,7,8,9,11,12])\n",
    "],remainder='passthrough')\n",
    "\n",
    "step2 = KNeighborsRegressor(n_neighbors=3)\n",
    "\n",
    "pipe = Pipeline([('step1',step1),('step2',step2)])\n",
    "\n",
    "pipe.fit(X_train,y_train)\n",
    "\n",
    "y_pred = pipe.predict(X_test)\n",
    "\n",
    "print('R2 score',r2_score(y_test,y_pred))\n",
    "print('MAE',mean_absolute_error(y_test,y_pred))"
   ]
  },
  {
   "cell_type": "markdown",
   "metadata": {},
   "source": [
    "## DecisionTreeRegressor"
   ]
  },
  {
   "cell_type": "code",
   "execution_count": 26,
   "metadata": {},
   "outputs": [
    {
     "name": "stdout",
     "output_type": "stream",
     "text": [
      "R2 score 0.9023261967020089\n",
      "MAE 0.2544752230288523\n"
     ]
    }
   ],
   "source": [
    "step1 = ColumnTransformer(transformers=[('col_tnf',OneHotEncoder(sparse=False,handle_unknown='ignore'),[0,1,2,3,6,7,8,9,11,12])\n",
    "],remainder='passthrough')\n",
    "\n",
    "step2 = DecisionTreeRegressor(max_depth=8)\n",
    "\n",
    "pipe = Pipeline([('step1',step1),('step2',step2)])\n",
    "\n",
    "pipe.fit(X_train,y_train)\n",
    "\n",
    "y_pred = pipe.predict(X_test)\n",
    "\n",
    "print('R2 score',r2_score(y_test,y_pred))\n",
    "print('MAE',mean_absolute_error(y_test,y_pred))"
   ]
  },
  {
   "cell_type": "markdown",
   "metadata": {},
   "source": [
    "## SVR"
   ]
  },
  {
   "cell_type": "code",
   "execution_count": 27,
   "metadata": {},
   "outputs": [
    {
     "name": "stdout",
     "output_type": "stream",
     "text": [
      "R2 score 0.9299192277930857\n",
      "MAE 0.15872913418398296\n"
     ]
    }
   ],
   "source": [
    "step1 = ColumnTransformer(transformers=[('col_tnf',OneHotEncoder(sparse=False,handle_unknown='ignore'),[0,1,2,3,6,7,8,9,11,12])\n",
    "],remainder='passthrough')\n",
    "\n",
    "step2 = SVR(kernel='rbf',C=10000,epsilon=0.09)\n",
    "\n",
    "pipe = Pipeline([('step1',step1),('step2',step2)])\n",
    "\n",
    "pipe.fit(X_train,y_train)\n",
    "\n",
    "y_pred = pipe.predict(X_test)\n",
    "\n",
    "print('R2 score',r2_score(y_test,y_pred))\n",
    "print('MAE',mean_absolute_error(y_test,y_pred))"
   ]
  },
  {
   "cell_type": "markdown",
   "metadata": {},
   "source": [
    "## RandomForestRegressor"
   ]
  },
  {
   "cell_type": "code",
   "execution_count": 28,
   "metadata": {},
   "outputs": [
    {
     "name": "stdout",
     "output_type": "stream",
     "text": [
      "R2 score 0.9257534025573801\n",
      "MAE 0.18430125411813378\n"
     ]
    }
   ],
   "source": [
    "step1 = ColumnTransformer(transformers=[('col_tnf',OneHotEncoder(sparse=False,handle_unknown='ignore'),[0,1,2,3,6,7,8,9,11,12])\n",
    "],remainder='passthrough')\n",
    "\n",
    "step2 = RandomForestRegressor(n_estimators=100,random_state=3,max_samples=0.5,max_features=0.75,max_depth=15)\n",
    "\n",
    "pipe = Pipeline([('step1',step1),('step2',step2)])\n",
    "\n",
    "pipe.fit(X_train,y_train)\n",
    "\n",
    "y_pred = pipe.predict(X_test)\n",
    "\n",
    "print('R2 score',r2_score(y_test,y_pred))\n",
    "print('MAE',mean_absolute_error(y_test,y_pred))"
   ]
  },
  {
   "cell_type": "markdown",
   "metadata": {},
   "source": [
    "## AdaBoostRegressor"
   ]
  },
  {
   "cell_type": "code",
   "execution_count": 29,
   "metadata": {},
   "outputs": [
    {
     "name": "stdout",
     "output_type": "stream",
     "text": [
      "R2 score 0.8333100816169967\n",
      "MAE 0.37133085723894227\n"
     ]
    }
   ],
   "source": [
    "step1 = ColumnTransformer(transformers=[('col_tnf',OneHotEncoder(sparse=False,handle_unknown='ignore'),[0,1,2,3,6,7,8,9,11,12])\n",
    "],remainder='passthrough')\n",
    "\n",
    "step2 = AdaBoostRegressor(n_estimators=15,learning_rate=1.0)\n",
    "\n",
    "pipe = Pipeline([('step1',step1),('step2',step2)])\n",
    "\n",
    "pipe.fit(X_train,y_train)\n",
    "\n",
    "y_pred = pipe.predict(X_test)\n",
    "\n",
    "print('R2 score',r2_score(y_test,y_pred))\n",
    "print('MAE',mean_absolute_error(y_test,y_pred))"
   ]
  },
  {
   "cell_type": "markdown",
   "metadata": {},
   "source": [
    "## GradientBoostingRegressor"
   ]
  },
  {
   "cell_type": "code",
   "execution_count": 30,
   "metadata": {},
   "outputs": [
    {
     "name": "stdout",
     "output_type": "stream",
     "text": [
      "R2 score 0.9258303983173126\n",
      "MAE 0.177070767130149\n"
     ]
    }
   ],
   "source": [
    "step1 = ColumnTransformer(transformers=[('col_tnf',OneHotEncoder(sparse=False,handle_unknown='ignore'),[0,1,2,3,6,7,8,9,11,12])\n",
    "],remainder='passthrough')\n",
    "\n",
    "step2 = GradientBoostingRegressor(n_estimators=500)\n",
    "\n",
    "pipe = Pipeline([('step1',step1),('step2',step2)])\n",
    "\n",
    "pipe.fit(X_train,y_train)\n",
    "\n",
    "y_pred = pipe.predict(X_test)\n",
    "\n",
    "print('R2 score',r2_score(y_test,y_pred))\n",
    "print('MAE',mean_absolute_error(y_test,y_pred))"
   ]
  },
  {
   "cell_type": "markdown",
   "metadata": {},
   "source": [
    "Since KNeighborsRegressor has maximum R2 score i.e accuracy of 93.11% so run this pipeline at last once again"
   ]
  },
  {
   "cell_type": "code",
   "execution_count": 31,
   "metadata": {},
   "outputs": [
    {
     "name": "stdout",
     "output_type": "stream",
     "text": [
      "R2 score 0.9311776222035469\n",
      "MAE 0.1912951382382296\n"
     ]
    }
   ],
   "source": [
    "step1 = ColumnTransformer(transformers=[('col_tnf',OneHotEncoder(sparse=False,handle_unknown='ignore'),[0,1,2,3,6,7,8,9,11,12])\n",
    "],remainder='passthrough')\n",
    "\n",
    "step2 = KNeighborsRegressor(n_neighbors=3)\n",
    "\n",
    "pipe = Pipeline([('step1',step1),('step2',step2)])\n",
    "\n",
    "pipe.fit(X_train,y_train)\n",
    "\n",
    "y_pred = pipe.predict(X_test)\n",
    "\n",
    "print('R2 score',r2_score(y_test,y_pred))\n",
    "print('MAE',mean_absolute_error(y_test,y_pred))"
   ]
  },
  {
   "cell_type": "code",
   "execution_count": 32,
   "metadata": {},
   "outputs": [],
   "source": [
    "# exporting the model\n",
    "import pickle\n",
    "pickle.dump(df2,open('df.pkl','wb'))\n",
    "pickle.dump(pipe,open('pipe.pkl','wb'))\n"
   ]
  },
  {
   "cell_type": "code",
   "execution_count": null,
   "metadata": {},
   "outputs": [],
   "source": []
  },
  {
   "cell_type": "code",
   "execution_count": null,
   "metadata": {},
   "outputs": [],
   "source": []
  },
  {
   "cell_type": "code",
   "execution_count": 33,
   "metadata": {},
   "outputs": [
    {
     "data": {
      "text/html": [
       "<div>\n",
       "<style scoped>\n",
       "    .dataframe tbody tr th:only-of-type {\n",
       "        vertical-align: middle;\n",
       "    }\n",
       "\n",
       "    .dataframe tbody tr th {\n",
       "        vertical-align: top;\n",
       "    }\n",
       "\n",
       "    .dataframe thead th {\n",
       "        text-align: right;\n",
       "    }\n",
       "</style>\n",
       "<table border=\"1\" class=\"dataframe\">\n",
       "  <thead>\n",
       "    <tr style=\"text-align: right;\">\n",
       "      <th></th>\n",
       "      <th>Make</th>\n",
       "      <th>Model</th>\n",
       "      <th>Fuel_Type</th>\n",
       "      <th>Body_Type</th>\n",
       "      <th>ARAI_Certified_Mileage</th>\n",
       "      <th>Seating_Capacity</th>\n",
       "      <th>Start_/_Stop_Button</th>\n",
       "      <th>Basic_Warranty</th>\n",
       "      <th>Child_Safety_Locks</th>\n",
       "      <th>Extended_Warranty</th>\n",
       "      <th>Number_of_Airbags</th>\n",
       "      <th>Parking_Assistance</th>\n",
       "      <th>Navigation_System</th>\n",
       "    </tr>\n",
       "  </thead>\n",
       "  <tbody>\n",
       "    <tr>\n",
       "      <th>944</th>\n",
       "      <td>Honda</td>\n",
       "      <td>Wr-V</td>\n",
       "      <td>Diesel</td>\n",
       "      <td>SUV</td>\n",
       "      <td>25.5</td>\n",
       "      <td>5.0</td>\n",
       "      <td>Yes</td>\n",
       "      <td>3 years without mileage limit</td>\n",
       "      <td>Yes</td>\n",
       "      <td>3 Years Unlimited Kilometres</td>\n",
       "      <td>2.0</td>\n",
       "      <td>Rear sensors</td>\n",
       "      <td>Not Applicable</td>\n",
       "    </tr>\n",
       "  </tbody>\n",
       "</table>\n",
       "</div>"
      ],
      "text/plain": [
       "      Make Model Fuel_Type Body_Type  ARAI_Certified_Mileage  \\\n",
       "944  Honda  Wr-V    Diesel       SUV                    25.5   \n",
       "\n",
       "     Seating_Capacity Start_/_Stop_Button                 Basic_Warranty  \\\n",
       "944               5.0                 Yes  3 years without mileage limit   \n",
       "\n",
       "    Child_Safety_Locks             Extended_Warranty  Number_of_Airbags  \\\n",
       "944                Yes  3 Years Unlimited Kilometres                2.0   \n",
       "\n",
       "    Parking_Assistance Navigation_System  \n",
       "944       Rear sensors    Not Applicable  "
      ]
     },
     "execution_count": 33,
     "metadata": {},
     "output_type": "execute_result"
    }
   ],
   "source": [
    "X_train.head(1)"
   ]
  },
  {
   "cell_type": "code",
   "execution_count": null,
   "metadata": {},
   "outputs": [],
   "source": []
  }
 ],
 "metadata": {
  "kernelspec": {
   "display_name": "Python 3 (ipykernel)",
   "language": "python",
   "name": "python3"
  },
  "language_info": {
   "codemirror_mode": {
    "name": "ipython",
    "version": 3
   },
   "file_extension": ".py",
   "mimetype": "text/x-python",
   "name": "python",
   "nbconvert_exporter": "python",
   "pygments_lexer": "ipython3",
   "version": "3.9.13"
  }
 },
 "nbformat": 4,
 "nbformat_minor": 4
}
